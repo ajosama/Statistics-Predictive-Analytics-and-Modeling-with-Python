{
 "cells": [
  {
   "cell_type": "markdown",
   "id": "38745aa0",
   "metadata": {},
   "source": [
    "# We are trying to predict median value of house price in Boston"
   ]
  },
  {
   "cell_type": "markdown",
   "id": "472aa673",
   "metadata": {},
   "source": [
    "Import libraries"
   ]
  },
  {
   "cell_type": "code",
   "execution_count": null,
   "id": "0ed91070",
   "metadata": {},
   "outputs": [],
   "source": [
    "import numpy as np\n",
    "import pandas as pd\n",
    "import matplotlib.pyplot as plt"
   ]
  },
  {
   "cell_type": "markdown",
   "id": "c5218095",
   "metadata": {},
   "source": [
    "Import dataset"
   ]
  },
  {
   "cell_type": "code",
   "execution_count": null,
   "id": "c48dd8e6",
   "metadata": {},
   "outputs": [],
   "source": [
    "dataset = pd.read_csv(\"BostonHousing.csv\")\n",
    "\n",
    "# Print head of the dataset\n",
    "\n",
    "dataset.head()"
   ]
  },
  {
   "cell_type": "code",
   "execution_count": null,
   "id": "48640a06",
   "metadata": {},
   "outputs": [],
   "source": []
  }
 ],
 "metadata": {
  "kernelspec": {
   "display_name": "Python 3 (ipykernel)",
   "language": "python",
   "name": "python3"
  }
 },
 "nbformat": 4,
 "nbformat_minor": 5
}
